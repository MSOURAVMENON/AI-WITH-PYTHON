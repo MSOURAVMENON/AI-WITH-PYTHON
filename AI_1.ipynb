{
  "nbformat": 4,
  "nbformat_minor": 0,
  "metadata": {
    "colab": {
      "name": "AI-1.ipynb",
      "provenance": [],
      "authorship_tag": "ABX9TyNY97yfAfU/1El9CQ6EVTeA",
      "include_colab_link": true
    },
    "kernelspec": {
      "name": "python3",
      "display_name": "Python 3"
    },
    "language_info": {
      "name": "python"
    }
  },
  "cells": [
    {
      "cell_type": "markdown",
      "metadata": {
        "id": "view-in-github",
        "colab_type": "text"
      },
      "source": [
        "<a href=\"https://colab.research.google.com/github/MSOURAVMENON/AI-WITH-PYTHON/blob/main/AI_1.ipynb\" target=\"_parent\"><img src=\"https://colab.research.google.com/assets/colab-badge.svg\" alt=\"Open In Colab\"/></a>"
      ]
    },
    {
      "cell_type": "code",
      "execution_count": 2,
      "metadata": {
        "id": "RtueMYoHD2Ti"
      },
      "outputs": [],
      "source": [
        "import numpy as np\n",
        "x=np.array([1,2,3,4,5])\n",
        "y=np.array([7,14,15,18,21])\n"
      ]
    },
    {
      "cell_type": "code",
      "source": [
        "x1=np.mean(x)\n",
        "y1=np.mean(y)\n",
        "print(x1)\n",
        "print(y1)\n"
      ],
      "metadata": {
        "colab": {
          "base_uri": "https://localhost:8080/"
        },
        "id": "4upWEjc1E_sF",
        "outputId": "694e6480-a768-450b-dce4-8d567a482323"
      },
      "execution_count": 3,
      "outputs": [
        {
          "output_type": "stream",
          "name": "stdout",
          "text": [
            "3.0\n",
            "15.0\n"
          ]
        }
      ]
    },
    {
      "cell_type": "code",
      "source": [
        "p=(x-x1)*(y-y1)\n",
        "print(p)"
      ],
      "metadata": {
        "colab": {
          "base_uri": "https://localhost:8080/"
        },
        "id": "MVUprsxJNZBo",
        "outputId": "1fb307f9-703a-486b-aba1-f096b56a9f6b"
      },
      "execution_count": 6,
      "outputs": [
        {
          "output_type": "stream",
          "name": "stdout",
          "text": [
            "[16.  1.  0.  3. 12.]\n"
          ]
        }
      ]
    },
    {
      "cell_type": "code",
      "source": [
        "n=sum(p)\n",
        "print (n)"
      ],
      "metadata": {
        "colab": {
          "base_uri": "https://localhost:8080/"
        },
        "id": "-zCyqD2hNmOY",
        "outputId": "e65e1672-125f-4e92-a1bb-24ca0c72de09"
      },
      "execution_count": 9,
      "outputs": [
        {
          "output_type": "stream",
          "name": "stdout",
          "text": [
            "32.0\n"
          ]
        }
      ]
    },
    {
      "cell_type": "code",
      "source": [
        "q=(x-x1)*(x-x1)\n",
        "print(q)"
      ],
      "metadata": {
        "colab": {
          "base_uri": "https://localhost:8080/"
        },
        "id": "prSQCEZDNq2k",
        "outputId": "3b833c70-62d7-4b92-80ee-5b8d30899675"
      },
      "execution_count": 11,
      "outputs": [
        {
          "output_type": "stream",
          "name": "stdout",
          "text": [
            "[4. 1. 0. 1. 4.]\n"
          ]
        }
      ]
    },
    {
      "cell_type": "code",
      "source": [
        "d=sum(q)\n",
        "print(d)"
      ],
      "metadata": {
        "colab": {
          "base_uri": "https://localhost:8080/"
        },
        "id": "eJ_0gj2mN9HS",
        "outputId": "9cfd5932-182f-49bf-ff2e-af60edc92f22"
      },
      "execution_count": 12,
      "outputs": [
        {
          "output_type": "stream",
          "name": "stdout",
          "text": [
            "10.0\n"
          ]
        }
      ]
    },
    {
      "cell_type": "code",
      "source": [
        "m=n/d\n",
        "c=y1-m*x1\n",
        "print(m)\n"
      ],
      "metadata": {
        "colab": {
          "base_uri": "https://localhost:8080/"
        },
        "id": "PMX19KevOF1f",
        "outputId": "35cd74ac-31e9-4ae7-bba3-285f62735bc5"
      },
      "execution_count": 15,
      "outputs": [
        {
          "output_type": "stream",
          "name": "stdout",
          "text": [
            "3.2\n"
          ]
        }
      ]
    },
    {
      "cell_type": "code",
      "source": [
        "ynew=m*x+c\n",
        "print(ynew)"
      ],
      "metadata": {
        "colab": {
          "base_uri": "https://localhost:8080/"
        },
        "id": "RSuImrLiOUK2",
        "outputId": "20f1a4ee-2006-453d-f69f-e707d6e4fa8b"
      },
      "execution_count": 17,
      "outputs": [
        {
          "output_type": "stream",
          "name": "stdout",
          "text": [
            "[ 8.6 11.8 15.  18.2 21.4]\n"
          ]
        }
      ]
    },
    {
      "cell_type": "code",
      "source": [
        "import matplotlib.pyplot as plt\n",
        "plt.scatter(x,y)\n"
      ],
      "metadata": {
        "colab": {
          "base_uri": "https://localhost:8080/",
          "height": 282
        },
        "id": "QmECo3NqRL1D",
        "outputId": "d34c1a9d-7138-44e8-b725-05363cb96ab2"
      },
      "execution_count": 19,
      "outputs": [
        {
          "output_type": "execute_result",
          "data": {
            "text/plain": [
              "<matplotlib.collections.PathCollection at 0x7f1b505a5b90>"
            ]
          },
          "metadata": {},
          "execution_count": 19
        },
        {
          "output_type": "display_data",
          "data": {
            "text/plain": [
              "<Figure size 432x288 with 1 Axes>"
            ],
            "image/png": "[encoded data removed]"
          },
          "metadata": {
            "needs_background": "light"
          }
        }
      ]
    },
    {
      "cell_type": "code",
      "source": [
        "plt.scatter(x,y)\n",
        "plt .plot(x,ynew)\n"
      ],
      "metadata": {
        "colab": {
          "base_uri": "https://localhost:8080/",
          "height": 285
        },
        "id": "kUPY1CfZRbqg",
        "outputId": "de9ca263-506f-49ab-8007-9d63731f6566"
      },
      "execution_count": 21,
      "outputs": [
        {
          "output_type": "execute_result",
          "data": {
            "text/plain": [
              "[<matplotlib.lines.Line2D at 0x7f1b4fb53190>]"
            ]
          },
          "metadata": {},
          "execution_count": 21
        },
        {
          "output_type": "display_data",
          "data": {
            "text/plain": [
              "<Figure size 432x288 with 1 Axes>"
            ],
            "image/png": "[encoded data removed]"
          },
          "metadata": {
            "needs_background": "light"
          }
        }
      ]
    },
    {
      "cell_type": "code",
      "source": [
        ""
      ],
      "metadata": {
        "id": "_HjCxSiJS0hC"
      },
      "execution_count": null,
      "outputs": []
    }
  ]
}